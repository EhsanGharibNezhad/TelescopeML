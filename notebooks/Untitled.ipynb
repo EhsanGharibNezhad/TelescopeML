{
 "cells": [
  {
   "cell_type": "code",
   "execution_count": 3,
   "id": "eebb10b1-95a5-4bbe-982a-b92ee82fba40",
   "metadata": {},
   "outputs": [
    {
     "name": "stdout",
     "output_type": "stream",
     "text": [
      "Number of CPUs: 64\n",
      "[1, 4, 9, 16, 25]\n"
     ]
    }
   ],
   "source": [
    "import multiprocessing\n",
    "\n",
    "# Define a function to be executed in parallel\n",
    "def square(number):\n",
    "    return number ** 2\n",
    "\n",
    "if __name__ == '__main__':\n",
    "    # Create a list of numbers\n",
    "    numbers = [1, 2, 3, 4, 5]\n",
    "\n",
    "    # Create a multiprocessing pool with the number of CPU cores\n",
    "    pool = multiprocessing.Pool(processes=multiprocessing.cpu_count())\n",
    "\n",
    "    # Apply the function to the numbers using multiple processes\n",
    "    results = pool.map(square, numbers)\n",
    "    \n",
    "    \n",
    "    num_cpus = multiprocessing.cpu_count()\n",
    "\n",
    "    print(\"Number of CPUs:\", num_cpus)\n",
    "    # Close the pool and wait for the processes to finish\n",
    "    pool.close()\n",
    "    pool.join()\n",
    "\n",
    "    # Print the results\n",
    "    print(results)\n"
   ]
  },
  {
   "cell_type": "code",
   "execution_count": 22,
   "id": "1d6d2e8b-c4c0-45e1-b608-02a7a819ee7b",
   "metadata": {},
   "outputs": [
    {
     "name": "stdout",
     "output_type": "stream",
     "text": [
      "Number of CPUs: 64\n",
      "Elapsed Time: 17.794541597366333 seconds\n"
     ]
    }
   ],
   "source": [
    "import multiprocessing\n",
    "import time\n",
    "\n",
    "# Define a function to be executed in parallel\n",
    "def square(number):\n",
    "    return number ** 2\n",
    "\n",
    "if __name__ == '__main__':\n",
    "    # Create a list of numbers\n",
    "    numbers = range(1000000)\n",
    "\n",
    "    # Specify the desired number of processes\n",
    "    num_processes = 30\n",
    "\n",
    "    # Start the timer\n",
    "    start_time = time.time()\n",
    "\n",
    "    # Create a multiprocessing pool with the specified number of processes\n",
    "    pool = multiprocessing.Pool(processes=num_processes)\n",
    "\n",
    "    # Apply the function to the numbers using multiple processes\n",
    "    results = pool.map(square, numbers)\n",
    "\n",
    "    # Close the pool and wait for the processes to finish\n",
    "    pool.close()\n",
    "    pool.join()\n",
    "\n",
    "    # Stop the timer\n",
    "    end_time = time.time()\n",
    "\n",
    "    # Calculate the elapsed time\n",
    "    elapsed_time = end_time - start_time\n",
    "\n",
    "    num_cpus = multiprocessing.cpu_count()\n",
    "\n",
    "    print(\"Number of CPUs:\", num_cpus)\n",
    "    \n",
    "    # Print the results and elapsed time\n",
    "    # print(\"Results:\", results)\n",
    "    print(\"Elapsed Time:\", elapsed_time, \"seconds\")\n"
   ]
  },
  {
   "cell_type": "code",
   "execution_count": null,
   "id": "b7caf965-1cc1-452f-8407-4b46cd8e981a",
   "metadata": {},
   "outputs": [],
   "source": []
  }
 ],
 "metadata": {
  "kernelspec": {
   "display_name": "Python [conda env:bohb] *",
   "language": "python",
   "name": "conda-env-bohb-py"
  },
  "language_info": {
   "codemirror_mode": {
    "name": "ipython",
    "version": 3
   },
   "file_extension": ".py",
   "mimetype": "text/x-python",
   "name": "python",
   "nbconvert_exporter": "python",
   "pygments_lexer": "ipython3",
   "version": "3.9.16"
  }
 },
 "nbformat": 4,
 "nbformat_minor": 5
}
